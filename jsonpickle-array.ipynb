{
 "cells": [
  {
   "cell_type": "code",
   "execution_count": 1,
   "metadata": {},
   "outputs": [],
   "source": [
    "from PIL import Image                                                                                    \n",
    "import jsonpickle                                                                                        \n",
    "import numpy as np "
   ]
  },
  {
   "cell_type": "code",
   "execution_count": 29,
   "metadata": {},
   "outputs": [],
   "source": [
    "img1 = '/home/sharif/Downloads/test.png'                                                                 \n",
    "img2 = '/home/sharif/Downloads/test_1.png'                                                               \n",
    "img1 = np.array(Image.open(img1))                                                                        \n",
    "img2 = np.array(Image.open(img2))"
   ]
  },
  {
   "cell_type": "code",
   "execution_count": 30,
   "metadata": {},
   "outputs": [],
   "source": [
    "img1 = jsonpickle.encode(img1)\n",
    "img2 = jsonpickle.encode(img2)"
   ]
  },
  {
   "cell_type": "code",
   "execution_count": 31,
   "metadata": {},
   "outputs": [],
   "source": [
    "imgs = [img1, img2, img1]"
   ]
  },
  {
   "cell_type": "code",
   "execution_count": 32,
   "metadata": {},
   "outputs": [
    {
     "name": "stdout",
     "output_type": "stream",
     "text": [
      "(1080, 1920, 4)\n",
      "(1080, 1920, 4)\n",
      "(1080, 1920, 4)\n"
     ]
    },
    {
     "data": {
      "text/plain": [
       "(3, 1080, 1920, 4)"
      ]
     },
     "execution_count": 32,
     "metadata": {},
     "output_type": "execute_result"
    }
   ],
   "source": [
    "# for image in data['image']\n",
    "\n",
    "d_imgs = []\n",
    "for img in imgs:\n",
    "    i = jsonpickle.decode(img)\n",
    "    d_imgs.append(i)\n",
    "    print(i.shape)\n",
    "    \n",
    "np.stack(d_imgs).shape"
   ]
  },
  {
   "cell_type": "code",
   "execution_count": null,
   "metadata": {},
   "outputs": [],
   "source": []
  }
 ],
 "metadata": {
  "kernelspec": {
   "display_name": "Python 3",
   "language": "python",
   "name": "python3"
  },
  "language_info": {
   "codemirror_mode": {
    "name": "ipython",
    "version": 3
   },
   "file_extension": ".py",
   "mimetype": "text/x-python",
   "name": "python",
   "nbconvert_exporter": "python",
   "pygments_lexer": "ipython3",
   "version": "3.6.9"
  }
 },
 "nbformat": 4,
 "nbformat_minor": 4
}
