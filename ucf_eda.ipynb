{
 "cells": [
  {
   "cell_type": "code",
   "execution_count": 6,
   "metadata": {},
   "outputs": [],
   "source": [
    "from IPython.core.interactiveshell import InteractiveShell\n",
    "InteractiveShell.ast_node_interactivity = \"all\""
   ]
  },
  {
   "cell_type": "markdown",
   "metadata": {},
   "source": [
    "Dataset description\n",
    "\n",
    "Competition: https://www.kaggle.com/c/computervisioncompetitionsc2020/data\n",
    "\n",
    "UCF is an action recognition data set of realistic action videos, collected from YouTube. The dataset contains 5 categories (Basketball, Diving, Jumping, Tennis, and Walking). The training set contains 5 folders, around 100 video for each category. The testing set contains 126 videos. The goal is to build a model than can recognize the cateogry of each video in the testing set."
   ]
  },
  {
   "cell_type": "code",
   "execution_count": 220,
   "metadata": {},
   "outputs": [],
   "source": [
    "import cv2\n",
    "import pandas as pd\n",
    "from pathlib import Path"
   ]
  },
  {
   "cell_type": "code",
   "execution_count": 221,
   "metadata": {},
   "outputs": [],
   "source": [
    "V_DIR = '/home/sharif/Documents/CS-2020-Kaggle-AR/Train'\n",
    "SUB_DIRS = ['Basketball', 'Diving', 'Jumping', 'Tennis', 'Walking']"
   ]
  },
  {
   "cell_type": "code",
   "execution_count": 239,
   "metadata": {},
   "outputs": [],
   "source": [
    "def num_frames(f):\n",
    "    'return the number of frames in video file `f`'\n",
    "    try: \n",
    "        cap = cv2.VideoCapture(f)\n",
    "        return int(cap.get(cv2.CAP_PROP_FRAME_COUNT))\n",
    "    except: return 0"
   ]
  },
  {
   "cell_type": "markdown",
   "metadata": {},
   "source": [
    "Get the number of frames for each video file."
   ]
  },
  {
   "cell_type": "code",
   "execution_count": 240,
   "metadata": {},
   "outputs": [],
   "source": [
    "n_frames = {}\n",
    "for sub_dir in SUB_DIRS:\n",
    "    for f in (Path(V_DIR)/sub_dir).glob('*.mpg'):\n",
    "        f = str(f)\n",
    "        n_frames[f] = [num_frames(f)]"
   ]
  },
  {
   "cell_type": "code",
   "execution_count": 231,
   "metadata": {},
   "outputs": [],
   "source": [
    "n_frames = pd.DataFrame.from_dict(n_frames, orient='index', columns=['n_frames'])"
   ]
  },
  {
   "cell_type": "code",
   "execution_count": 232,
   "metadata": {},
   "outputs": [
    {
     "data": {
      "text/html": [
       "<div>\n",
       "<style scoped>\n",
       "    .dataframe tbody tr th:only-of-type {\n",
       "        vertical-align: middle;\n",
       "    }\n",
       "\n",
       "    .dataframe tbody tr th {\n",
       "        vertical-align: top;\n",
       "    }\n",
       "\n",
       "    .dataframe thead th {\n",
       "        text-align: right;\n",
       "    }\n",
       "</style>\n",
       "<table border=\"1\" class=\"dataframe\">\n",
       "  <thead>\n",
       "    <tr style=\"text-align: right;\">\n",
       "      <th></th>\n",
       "      <th>n_frames</th>\n",
       "    </tr>\n",
       "  </thead>\n",
       "  <tbody>\n",
       "    <tr>\n",
       "      <th>/home/sharif/Documents/CS-2020-Kaggle-AR/Train/Basketball/v_shooting_02_03.mpg</th>\n",
       "      <td>144</td>\n",
       "    </tr>\n",
       "    <tr>\n",
       "      <th>/home/sharif/Documents/CS-2020-Kaggle-AR/Train/Basketball/v_shooting_08_03.mpg</th>\n",
       "      <td>83</td>\n",
       "    </tr>\n",
       "    <tr>\n",
       "      <th>/home/sharif/Documents/CS-2020-Kaggle-AR/Train/Basketball/v_shooting_07_01.mpg</th>\n",
       "      <td>150</td>\n",
       "    </tr>\n",
       "    <tr>\n",
       "      <th>/home/sharif/Documents/CS-2020-Kaggle-AR/Train/Basketball/v_shooting_04_02.mpg</th>\n",
       "      <td>108</td>\n",
       "    </tr>\n",
       "    <tr>\n",
       "      <th>/home/sharif/Documents/CS-2020-Kaggle-AR/Train/Basketball/v_shooting_14_02.mpg</th>\n",
       "      <td>91</td>\n",
       "    </tr>\n",
       "  </tbody>\n",
       "</table>\n",
       "</div>"
      ],
      "text/plain": [
       "                                                    n_frames\n",
       "/home/sharif/Documents/CS-2020-Kaggle-AR/Train/...       144\n",
       "/home/sharif/Documents/CS-2020-Kaggle-AR/Train/...        83\n",
       "/home/sharif/Documents/CS-2020-Kaggle-AR/Train/...       150\n",
       "/home/sharif/Documents/CS-2020-Kaggle-AR/Train/...       108\n",
       "/home/sharif/Documents/CS-2020-Kaggle-AR/Train/...        91"
      ]
     },
     "execution_count": 232,
     "metadata": {},
     "output_type": "execute_result"
    }
   ],
   "source": [
    "n_frames.head()"
   ]
  },
  {
   "cell_type": "markdown",
   "metadata": {},
   "source": [
    "**Min/Max** frames:"
   ]
  },
  {
   "cell_type": "code",
   "execution_count": 233,
   "metadata": {},
   "outputs": [
    {
     "data": {
      "text/plain": [
       "(0, 526)"
      ]
     },
     "execution_count": 233,
     "metadata": {},
     "output_type": "execute_result"
    }
   ],
   "source": [
    "int(n_frames.min()), int(n_frames.max())"
   ]
  },
  {
   "cell_type": "markdown",
   "metadata": {},
   "source": [
    "**Average** number of frames:"
   ]
  },
  {
   "cell_type": "code",
   "execution_count": 234,
   "metadata": {},
   "outputs": [
    {
     "data": {
      "text/plain": [
       "177"
      ]
     },
     "execution_count": 234,
     "metadata": {},
     "output_type": "execute_result"
    }
   ],
   "source": [
    "int(n_frames.mean())"
   ]
  },
  {
   "cell_type": "markdown",
   "metadata": {},
   "source": [
    "Number of videos with **less than 25 frames**:"
   ]
  },
  {
   "cell_type": "code",
   "execution_count": 235,
   "metadata": {},
   "outputs": [
    {
     "data": {
      "text/plain": [
       "3"
      ]
     },
     "execution_count": 235,
     "metadata": {},
     "output_type": "execute_result"
    }
   ],
   "source": [
    "int(n_frames.where(n_frames < 25).notna().sum())"
   ]
  },
  {
   "cell_type": "markdown",
   "metadata": {},
   "source": [
    "**Dimension** of the single frame:"
   ]
  },
  {
   "cell_type": "code",
   "execution_count": 236,
   "metadata": {},
   "outputs": [
    {
     "data": {
      "text/plain": [
       "(240, 320, 3)"
      ]
     },
     "execution_count": 236,
     "metadata": {},
     "output_type": "execute_result"
    }
   ],
   "source": [
    "f = n_frames.iloc[0].name\n",
    "\n",
    "cap = cv2.VideoCapture(f)\n",
    "while cap.isOpened():\n",
    "    ret, frame = cap.read()\n",
    "    frame.shape\n",
    "    break"
   ]
  }
 ],
 "metadata": {
  "kernelspec": {
   "display_name": "Python 3",
   "language": "python",
   "name": "python3"
  },
  "language_info": {
   "codemirror_mode": {
    "name": "ipython",
    "version": 3
   },
   "file_extension": ".py",
   "mimetype": "text/x-python",
   "name": "python",
   "nbconvert_exporter": "python",
   "pygments_lexer": "ipython3",
   "version": "3.8.3"
  }
 },
 "nbformat": 4,
 "nbformat_minor": 4
}
