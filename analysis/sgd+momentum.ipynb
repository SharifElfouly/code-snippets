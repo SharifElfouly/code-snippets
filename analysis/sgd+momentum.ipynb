{
 "cells": [
  {
   "cell_type": "code",
   "execution_count": 63,
   "metadata": {},
   "outputs": [],
   "source": [
    "gs = [1,2,3,1,1,-1]\n",
    "w = 5\n",
    "alpha = 1e-1\n",
    "mu = 0.9"
   ]
  },
  {
   "cell_type": "code",
   "execution_count": 64,
   "metadata": {},
   "outputs": [
    {
     "data": {
      "text/plain": [
       "[4.9, 4.8, 4.7, 4.9, 4.9, 5.1]"
      ]
     },
     "execution_count": 64,
     "metadata": {},
     "output_type": "execute_result"
    }
   ],
   "source": [
    "[w-alpha*g for g in gs]"
   ]
  },
  {
   "cell_type": "code",
   "execution_count": 65,
   "metadata": {},
   "outputs": [
    {
     "name": "stdout",
     "output_type": "stream",
     "text": [
      "v: 0.1\n",
      "w: 4.9\n",
      "v: 0.29\n",
      "w: 4.61\n",
      "v: 0.561\n",
      "w: 4.049\n",
      "v: 0.6049\n",
      "w: 3.4441\n",
      "v: 0.6444\n",
      "w: 2.7997\n",
      "v: 0.48\n",
      "w: 2.3197\n"
     ]
    }
   ],
   "source": [
    "v = 0\n",
    "for g in gs:\n",
    "    v = mu*v + alpha*g\n",
    "    print(f'v: {round(v,4)}')\n",
    "    w -= v\n",
    "    print(f'w: {round(w,4)}')"
   ]
  }
 ],
 "metadata": {
  "kernelspec": {
   "display_name": "Python 3",
   "language": "python",
   "name": "python3"
  },
  "language_info": {
   "codemirror_mode": {
    "name": "ipython",
    "version": 3
   },
   "file_extension": ".py",
   "mimetype": "text/x-python",
   "name": "python",
   "nbconvert_exporter": "python",
   "pygments_lexer": "ipython3",
   "version": "3.8.3"
  }
 },
 "nbformat": 4,
 "nbformat_minor": 4
}
