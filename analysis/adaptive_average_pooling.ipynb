{
 "cells": [
  {
   "cell_type": "code",
   "execution_count": 1,
   "metadata": {},
   "outputs": [],
   "source": [
    "import torch\n",
    "import torch.nn as nn"
   ]
  },
  {
   "cell_type": "markdown",
   "metadata": {},
   "source": [
    "## Channels always stay the same"
   ]
  },
  {
   "cell_type": "code",
   "execution_count": 2,
   "metadata": {},
   "outputs": [],
   "source": [
    "m = nn.AdaptiveAvgPool2d((5,7))"
   ]
  },
  {
   "cell_type": "markdown",
   "metadata": {},
   "source": [
    "## w,h > pool w,h"
   ]
  },
  {
   "cell_type": "code",
   "execution_count": 21,
   "metadata": {},
   "outputs": [
    {
     "data": {
      "text/plain": [
       "torch.Size([1, 3, 10, 10])"
      ]
     },
     "execution_count": 21,
     "metadata": {},
     "output_type": "execute_result"
    }
   ],
   "source": [
    "x = torch.randn(1, 3, 10, 10); x.shape"
   ]
  },
  {
   "cell_type": "code",
   "execution_count": 22,
   "metadata": {},
   "outputs": [
    {
     "data": {
      "text/plain": [
       "torch.Size([1, 3, 5, 7])"
      ]
     },
     "execution_count": 22,
     "metadata": {},
     "output_type": "execute_result"
    }
   ],
   "source": [
    "m(x).shape"
   ]
  },
  {
   "cell_type": "markdown",
   "metadata": {},
   "source": [
    "## w,h < pool w,h"
   ]
  },
  {
   "cell_type": "code",
   "execution_count": 17,
   "metadata": {},
   "outputs": [
    {
     "data": {
      "text/plain": [
       "tensor([[[[-8.3500,  7.5844],\n",
       "          [ 1.3103,  7.0031]]]])"
      ]
     },
     "execution_count": 17,
     "metadata": {},
     "output_type": "execute_result"
    }
   ],
   "source": [
    "x = torch.randn(1, 1, 2, 2)*5; x"
   ]
  },
  {
   "cell_type": "code",
   "execution_count": 25,
   "metadata": {},
   "outputs": [
    {
     "data": {
      "text/plain": [
       "torch.Size([1, 3, 5, 7])"
      ]
     },
     "execution_count": 25,
     "metadata": {},
     "output_type": "execute_result"
    }
   ],
   "source": [
    "y.shape"
   ]
  },
  {
   "cell_type": "code",
   "execution_count": 24,
   "metadata": {},
   "outputs": [
    {
     "data": {
      "text/plain": [
       "tensor([[[[-0.1388,  0.1555,  0.0966, -0.4340, -0.4123,  0.0503,  0.1597],\n",
       "          [-0.5407, -0.6543, -0.2620, -0.0985, -0.0319, -0.4022, -0.0620],\n",
       "          [-0.0604,  0.1747, -0.0109,  0.0352,  0.2579,  0.0539, -0.4838],\n",
       "          [ 0.4813, -0.2939, -0.8502,  0.2895,  0.1422, -0.1192, -0.0833],\n",
       "          [-0.1716,  0.5830,  0.2788, -0.2028,  0.0459, -0.0702,  0.2066]],\n",
       "\n",
       "         [[-0.6428, -0.3273, -0.4327, -0.2500,  0.2871,  0.1769,  0.6011],\n",
       "          [ 0.1563, -0.1299, -0.2160,  0.5759,  1.1386,  0.0432, -0.4479],\n",
       "          [-0.3266, -0.0740,  0.1070,  0.4237, -0.0625,  0.2190,  1.1889],\n",
       "          [-0.1929,  0.8878, -0.1204, -0.7711, -0.2728,  0.5578,  0.8006],\n",
       "          [-0.2713,  0.2930,  0.6493, -0.2185,  0.0407, -0.1472, -0.3034]],\n",
       "\n",
       "         [[ 0.7013,  0.6486,  0.5579,  0.8762,  0.3770,  0.0496,  0.6487],\n",
       "          [ 0.0535,  0.0250, -0.0869,  0.0127,  0.2161,  0.2052,  0.7209],\n",
       "          [ 0.1111,  0.3150, -0.0846,  0.4156, -0.1771, -0.3638, -0.0676],\n",
       "          [ 0.5691,  0.1229,  0.1102, -0.2532,  0.1529,  0.0689, -0.1764],\n",
       "          [ 0.6683, -0.2738, -0.1564,  0.5870, -0.3617, -0.7943, -0.2873]]]])"
      ]
     },
     "execution_count": 24,
     "metadata": {},
     "output_type": "execute_result"
    }
   ],
   "source": [
    "y = m(x); y"
   ]
  }
 ],
 "metadata": {
  "kernelspec": {
   "display_name": "Python 3",
   "language": "python",
   "name": "python3"
  },
  "language_info": {
   "codemirror_mode": {
    "name": "ipython",
    "version": 3
   },
   "file_extension": ".py",
   "mimetype": "text/x-python",
   "name": "python",
   "nbconvert_exporter": "python",
   "pygments_lexer": "ipython3",
   "version": "3.8.3"
  }
 },
 "nbformat": 4,
 "nbformat_minor": 4
}
