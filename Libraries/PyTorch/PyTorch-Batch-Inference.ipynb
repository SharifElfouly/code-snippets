{
 "cells": [
  {
   "cell_type": "code",
   "execution_count": 1,
   "metadata": {},
   "outputs": [],
   "source": [
    "import numpy as np\n",
    "import torch"
   ]
  },
  {
   "cell_type": "code",
   "execution_count": 2,
   "metadata": {},
   "outputs": [
    {
     "data": {
      "text/plain": [
       "(3, 4, 4)"
      ]
     },
     "execution_count": 2,
     "metadata": {},
     "output_type": "execute_result"
    }
   ],
   "source": [
    "ones = np.full((3,4,4), 255)\n",
    "ones.shape"
   ]
  },
  {
   "cell_type": "code",
   "execution_count": 3,
   "metadata": {},
   "outputs": [
    {
     "data": {
      "text/plain": [
       "(3, 4, 4)"
      ]
     },
     "execution_count": 3,
     "metadata": {},
     "output_type": "execute_result"
    }
   ],
   "source": [
    "zeros = np.zeros((3,4,4))\n",
    "zeros.shape"
   ]
  },
  {
   "cell_type": "code",
   "execution_count": 4,
   "metadata": {},
   "outputs": [
    {
     "data": {
      "text/plain": [
       "array([[[255, 255, 255, 255],\n",
       "        [255, 255, 255, 255],\n",
       "        [255, 255, 255, 255],\n",
       "        [255, 255, 255, 255]],\n",
       "\n",
       "       [[255, 255, 255, 255],\n",
       "        [255, 255, 255, 255],\n",
       "        [255, 255, 255, 255],\n",
       "        [255, 255, 255, 255]],\n",
       "\n",
       "       [[255, 255, 255, 255],\n",
       "        [255, 255, 255, 255],\n",
       "        [255, 255, 255, 255],\n",
       "        [255, 255, 255, 255]]])"
      ]
     },
     "execution_count": 4,
     "metadata": {},
     "output_type": "execute_result"
    }
   ],
   "source": [
    "ones"
   ]
  },
  {
   "cell_type": "code",
   "execution_count": 5,
   "metadata": {},
   "outputs": [],
   "source": [
    "a = np.stack([ones, zeros])"
   ]
  },
  {
   "cell_type": "code",
   "execution_count": 6,
   "metadata": {},
   "outputs": [
    {
     "data": {
      "text/plain": [
       "(2, 3, 4, 4)"
      ]
     },
     "execution_count": 6,
     "metadata": {},
     "output_type": "execute_result"
    }
   ],
   "source": [
    "a.shape"
   ]
  },
  {
   "cell_type": "code",
   "execution_count": 7,
   "metadata": {},
   "outputs": [],
   "source": [
    "a = torch.from_numpy(a).cuda()"
   ]
  },
  {
   "cell_type": "code",
   "execution_count": 8,
   "metadata": {},
   "outputs": [],
   "source": [
    "t = torch.div(a, 255.0)"
   ]
  },
  {
   "cell_type": "code",
   "execution_count": 10,
   "metadata": {},
   "outputs": [
    {
     "data": {
      "text/plain": [
       "tensor([[[[255., 255., 255., 255.],\n",
       "          [255., 255., 255., 255.],\n",
       "          [255., 255., 255., 255.],\n",
       "          [255., 255., 255., 255.]],\n",
       "\n",
       "         [[255., 255., 255., 255.],\n",
       "          [255., 255., 255., 255.],\n",
       "          [255., 255., 255., 255.],\n",
       "          [255., 255., 255., 255.]],\n",
       "\n",
       "         [[255., 255., 255., 255.],\n",
       "          [255., 255., 255., 255.],\n",
       "          [255., 255., 255., 255.],\n",
       "          [255., 255., 255., 255.]]],\n",
       "\n",
       "\n",
       "        [[[  0.,   0.,   0.,   0.],\n",
       "          [  0.,   0.,   0.,   0.],\n",
       "          [  0.,   0.,   0.,   0.],\n",
       "          [  0.,   0.,   0.,   0.]],\n",
       "\n",
       "         [[  0.,   0.,   0.,   0.],\n",
       "          [  0.,   0.,   0.,   0.],\n",
       "          [  0.,   0.,   0.,   0.],\n",
       "          [  0.,   0.,   0.,   0.]],\n",
       "\n",
       "         [[  0.,   0.,   0.,   0.],\n",
       "          [  0.,   0.,   0.,   0.],\n",
       "          [  0.,   0.,   0.,   0.],\n",
       "          [  0.,   0.,   0.,   0.]]]], device='cuda:0', dtype=torch.float64)"
      ]
     },
     "execution_count": 10,
     "metadata": {},
     "output_type": "execute_result"
    }
   ],
   "source": [
    "a"
   ]
  },
  {
   "cell_type": "code",
   "execution_count": 11,
   "metadata": {},
   "outputs": [],
   "source": [
    "mean = (0.485, 0.456, 0.406)\n",
    "std = (0.229, 0.224, 0.225)"
   ]
  },
  {
   "cell_type": "code",
   "execution_count": 12,
   "metadata": {},
   "outputs": [],
   "source": [
    "mean = torch.as_tensor(mean, dtype=torch.float)[None, :, None, None].cuda()\n",
    "std = torch.as_tensor(std, dtype=torch.float)[None, :, None, None].cuda()"
   ]
  },
  {
   "cell_type": "code",
   "execution_count": 13,
   "metadata": {},
   "outputs": [
    {
     "data": {
      "text/plain": [
       "torch.Size([1, 3, 1, 1])"
      ]
     },
     "execution_count": 13,
     "metadata": {},
     "output_type": "execute_result"
    }
   ],
   "source": [
    "mean.shape"
   ]
  },
  {
   "cell_type": "code",
   "execution_count": 15,
   "metadata": {},
   "outputs": [
    {
     "data": {
      "text/plain": [
       "torch.Size([2, 3, 4, 4])"
      ]
     },
     "execution_count": 15,
     "metadata": {},
     "output_type": "execute_result"
    }
   ],
   "source": [
    "a.shape"
   ]
  },
  {
   "cell_type": "code",
   "execution_count": 16,
   "metadata": {},
   "outputs": [
    {
     "data": {
      "text/plain": [
       "tensor([[[[1111.4192, 1111.4192, 1111.4192, 1111.4192],\n",
       "          [1111.4192, 1111.4192, 1111.4192, 1111.4192],\n",
       "          [1111.4192, 1111.4192, 1111.4192, 1111.4192],\n",
       "          [1111.4192, 1111.4192, 1111.4192, 1111.4192]],\n",
       "\n",
       "         [[1136.3571, 1136.3571, 1136.3571, 1136.3571],\n",
       "          [1136.3571, 1136.3571, 1136.3571, 1136.3571],\n",
       "          [1136.3571, 1136.3571, 1136.3571, 1136.3571],\n",
       "          [1136.3571, 1136.3571, 1136.3571, 1136.3571]],\n",
       "\n",
       "         [[1131.5289, 1131.5289, 1131.5289, 1131.5289],\n",
       "          [1131.5289, 1131.5289, 1131.5289, 1131.5289],\n",
       "          [1131.5289, 1131.5289, 1131.5289, 1131.5289],\n",
       "          [1131.5289, 1131.5289, 1131.5289, 1131.5289]]],\n",
       "\n",
       "\n",
       "        [[[  -2.1179,   -2.1179,   -2.1179,   -2.1179],\n",
       "          [  -2.1179,   -2.1179,   -2.1179,   -2.1179],\n",
       "          [  -2.1179,   -2.1179,   -2.1179,   -2.1179],\n",
       "          [  -2.1179,   -2.1179,   -2.1179,   -2.1179]],\n",
       "\n",
       "         [[  -2.0357,   -2.0357,   -2.0357,   -2.0357],\n",
       "          [  -2.0357,   -2.0357,   -2.0357,   -2.0357],\n",
       "          [  -2.0357,   -2.0357,   -2.0357,   -2.0357],\n",
       "          [  -2.0357,   -2.0357,   -2.0357,   -2.0357]],\n",
       "\n",
       "         [[  -1.8044,   -1.8044,   -1.8044,   -1.8044],\n",
       "          [  -1.8044,   -1.8044,   -1.8044,   -1.8044],\n",
       "          [  -1.8044,   -1.8044,   -1.8044,   -1.8044],\n",
       "          [  -1.8044,   -1.8044,   -1.8044,   -1.8044]]]], device='cuda:0',\n",
       "       dtype=torch.float64)"
      ]
     },
     "execution_count": 16,
     "metadata": {},
     "output_type": "execute_result"
    }
   ],
   "source": [
    "a.sub_(mean).div_(std)"
   ]
  },
  {
   "cell_type": "code",
   "execution_count": null,
   "metadata": {},
   "outputs": [],
   "source": []
  }
 ],
 "metadata": {
  "kernelspec": {
   "display_name": "Python 3",
   "language": "python",
   "name": "python3"
  },
  "language_info": {
   "codemirror_mode": {
    "name": "ipython",
    "version": 3
   },
   "file_extension": ".py",
   "mimetype": "text/x-python",
   "name": "python",
   "nbconvert_exporter": "python",
   "pygments_lexer": "ipython3",
   "version": "3.6.9"
  }
 },
 "nbformat": 4,
 "nbformat_minor": 4
}
