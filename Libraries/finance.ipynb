{
 "cells": [
  {
   "cell_type": "code",
   "execution_count": 7,
   "metadata": {
    "collapsed": true
   },
   "outputs": [
    {
     "name": "stdout",
     "output_type": "stream",
     "text": [
      "Requirement already satisfied: yfinance in /home/sharif/anaconda3/lib/python3.8/site-packages (0.1.55)\n",
      "Requirement already satisfied: lxml>=4.5.1 in /home/sharif/anaconda3/lib/python3.8/site-packages (from yfinance) (4.5.2)\n",
      "Requirement already satisfied: multitasking>=0.0.7 in /home/sharif/anaconda3/lib/python3.8/site-packages (from yfinance) (0.0.9)\n",
      "Requirement already satisfied: pandas>=0.24 in /home/sharif/anaconda3/lib/python3.8/site-packages (from yfinance) (1.0.5)\n",
      "Requirement already satisfied: numpy>=1.15 in /home/sharif/.local/lib/python3.8/site-packages (from yfinance) (1.19.2)\n",
      "Requirement already satisfied: requests>=2.20 in /home/sharif/anaconda3/lib/python3.8/site-packages (from yfinance) (2.24.0)\n",
      "Requirement already satisfied: python-dateutil>=2.6.1 in /home/sharif/anaconda3/lib/python3.8/site-packages (from pandas>=0.24->yfinance) (2.8.1)\n",
      "Requirement already satisfied: pytz>=2017.2 in /home/sharif/anaconda3/lib/python3.8/site-packages (from pandas>=0.24->yfinance) (2020.1)\n",
      "Requirement already satisfied: idna<3,>=2.5 in /home/sharif/anaconda3/lib/python3.8/site-packages (from requests>=2.20->yfinance) (2.10)\n",
      "Requirement already satisfied: urllib3!=1.25.0,!=1.25.1,<1.26,>=1.21.1 in /home/sharif/anaconda3/lib/python3.8/site-packages (from requests>=2.20->yfinance) (1.25.9)\n",
      "Requirement already satisfied: certifi>=2017.4.17 in /home/sharif/.local/lib/python3.8/site-packages (from requests>=2.20->yfinance) (2020.6.20)\n",
      "Requirement already satisfied: chardet<4,>=3.0.2 in /home/sharif/anaconda3/lib/python3.8/site-packages (from requests>=2.20->yfinance) (3.0.4)\n",
      "Requirement already satisfied: six>=1.5 in /home/sharif/anaconda3/lib/python3.8/site-packages (from python-dateutil>=2.6.1->pandas>=0.24->yfinance) (1.15.0)\n"
     ]
    }
   ],
   "source": [
    "!pip3 install yfinance"
   ]
  },
  {
   "cell_type": "code",
   "execution_count": 141,
   "metadata": {},
   "outputs": [],
   "source": [
    "import yfinance as yf\n",
    "\n",
    "from IPython.display import Image\n",
    "from IPython.core.display import HTML "
   ]
  },
  {
   "cell_type": "markdown",
   "metadata": {},
   "source": [
    "What I need is the lowest price in the last 5 years or something like that."
   ]
  },
  {
   "cell_type": "code",
   "execution_count": 130,
   "metadata": {},
   "outputs": [],
   "source": [
    "msci_world = \"EUNL.DE\"\n",
    "msci_eu = \"EUNK.DE\"\n",
    "dax = \"EXS1.DE\"\n",
    "gold = \"SGBS.MI\"\n",
    "silver = \"PHAG.MI\""
   ]
  },
  {
   "cell_type": "code",
   "execution_count": 131,
   "metadata": {},
   "outputs": [
    {
     "data": {
      "text/html": [
       "<div>\n",
       "<style scoped>\n",
       "    .dataframe tbody tr th:only-of-type {\n",
       "        vertical-align: middle;\n",
       "    }\n",
       "\n",
       "    .dataframe tbody tr th {\n",
       "        vertical-align: top;\n",
       "    }\n",
       "\n",
       "    .dataframe thead th {\n",
       "        text-align: right;\n",
       "    }\n",
       "</style>\n",
       "<table border=\"1\" class=\"dataframe\">\n",
       "  <thead>\n",
       "    <tr style=\"text-align: right;\">\n",
       "      <th></th>\n",
       "      <th>Open</th>\n",
       "      <th>High</th>\n",
       "      <th>Low</th>\n",
       "      <th>Close</th>\n",
       "      <th>Volume</th>\n",
       "      <th>Dividends</th>\n",
       "      <th>Stock Splits</th>\n",
       "    </tr>\n",
       "    <tr>\n",
       "      <th>Date</th>\n",
       "      <th></th>\n",
       "      <th></th>\n",
       "      <th></th>\n",
       "      <th></th>\n",
       "      <th></th>\n",
       "      <th></th>\n",
       "      <th></th>\n",
       "    </tr>\n",
       "  </thead>\n",
       "  <tbody>\n",
       "    <tr>\n",
       "      <th>2009-10-20</th>\n",
       "      <td>17.209999</td>\n",
       "      <td>17.209999</td>\n",
       "      <td>17.209999</td>\n",
       "      <td>17.209999</td>\n",
       "      <td>0</td>\n",
       "      <td>0</td>\n",
       "      <td>0</td>\n",
       "    </tr>\n",
       "    <tr>\n",
       "      <th>2009-10-21</th>\n",
       "      <td>17.280001</td>\n",
       "      <td>17.280001</td>\n",
       "      <td>17.200001</td>\n",
       "      <td>17.250000</td>\n",
       "      <td>200</td>\n",
       "      <td>0</td>\n",
       "      <td>0</td>\n",
       "    </tr>\n",
       "    <tr>\n",
       "      <th>2009-10-22</th>\n",
       "      <td>17.010000</td>\n",
       "      <td>17.010000</td>\n",
       "      <td>17.010000</td>\n",
       "      <td>17.010000</td>\n",
       "      <td>0</td>\n",
       "      <td>0</td>\n",
       "      <td>0</td>\n",
       "    </tr>\n",
       "    <tr>\n",
       "      <th>2009-10-23</th>\n",
       "      <td>17.080000</td>\n",
       "      <td>17.080000</td>\n",
       "      <td>16.940001</td>\n",
       "      <td>16.940001</td>\n",
       "      <td>50</td>\n",
       "      <td>0</td>\n",
       "      <td>0</td>\n",
       "    </tr>\n",
       "    <tr>\n",
       "      <th>2009-10-26</th>\n",
       "      <td>17.000000</td>\n",
       "      <td>17.000000</td>\n",
       "      <td>16.840000</td>\n",
       "      <td>16.840000</td>\n",
       "      <td>100</td>\n",
       "      <td>0</td>\n",
       "      <td>0</td>\n",
       "    </tr>\n",
       "    <tr>\n",
       "      <th>...</th>\n",
       "      <td>...</td>\n",
       "      <td>...</td>\n",
       "      <td>...</td>\n",
       "      <td>...</td>\n",
       "      <td>...</td>\n",
       "      <td>...</td>\n",
       "      <td>...</td>\n",
       "    </tr>\n",
       "    <tr>\n",
       "      <th>2020-10-30</th>\n",
       "      <td>53.174000</td>\n",
       "      <td>53.862000</td>\n",
       "      <td>52.962002</td>\n",
       "      <td>53.459999</td>\n",
       "      <td>324780</td>\n",
       "      <td>0</td>\n",
       "      <td>0</td>\n",
       "    </tr>\n",
       "    <tr>\n",
       "      <th>2020-11-06</th>\n",
       "      <td>56.556000</td>\n",
       "      <td>56.700001</td>\n",
       "      <td>56.000000</td>\n",
       "      <td>56.487999</td>\n",
       "      <td>197001</td>\n",
       "      <td>0</td>\n",
       "      <td>0</td>\n",
       "    </tr>\n",
       "    <tr>\n",
       "      <th>2020-11-13</th>\n",
       "      <td>57.866001</td>\n",
       "      <td>58.124001</td>\n",
       "      <td>57.782001</td>\n",
       "      <td>57.972000</td>\n",
       "      <td>343335</td>\n",
       "      <td>0</td>\n",
       "      <td>0</td>\n",
       "    </tr>\n",
       "    <tr>\n",
       "      <th>2020-11-20</th>\n",
       "      <td>58.250000</td>\n",
       "      <td>58.582001</td>\n",
       "      <td>58.216000</td>\n",
       "      <td>58.534000</td>\n",
       "      <td>298650</td>\n",
       "      <td>0</td>\n",
       "      <td>0</td>\n",
       "    </tr>\n",
       "    <tr>\n",
       "      <th>2020-11-24</th>\n",
       "      <td>59.062000</td>\n",
       "      <td>59.299999</td>\n",
       "      <td>58.902000</td>\n",
       "      <td>59.299999</td>\n",
       "      <td>215537</td>\n",
       "      <td>0</td>\n",
       "      <td>0</td>\n",
       "    </tr>\n",
       "  </tbody>\n",
       "</table>\n",
       "<p>2724 rows × 7 columns</p>\n",
       "</div>"
      ],
      "text/plain": [
       "                 Open       High        Low      Close  Volume  Dividends  \\\n",
       "Date                                                                        \n",
       "2009-10-20  17.209999  17.209999  17.209999  17.209999       0          0   \n",
       "2009-10-21  17.280001  17.280001  17.200001  17.250000     200          0   \n",
       "2009-10-22  17.010000  17.010000  17.010000  17.010000       0          0   \n",
       "2009-10-23  17.080000  17.080000  16.940001  16.940001      50          0   \n",
       "2009-10-26  17.000000  17.000000  16.840000  16.840000     100          0   \n",
       "...               ...        ...        ...        ...     ...        ...   \n",
       "2020-10-30  53.174000  53.862000  52.962002  53.459999  324780          0   \n",
       "2020-11-06  56.556000  56.700001  56.000000  56.487999  197001          0   \n",
       "2020-11-13  57.866001  58.124001  57.782001  57.972000  343335          0   \n",
       "2020-11-20  58.250000  58.582001  58.216000  58.534000  298650          0   \n",
       "2020-11-24  59.062000  59.299999  58.902000  59.299999  215537          0   \n",
       "\n",
       "            Stock Splits  \n",
       "Date                      \n",
       "2009-10-20             0  \n",
       "2009-10-21             0  \n",
       "2009-10-22             0  \n",
       "2009-10-23             0  \n",
       "2009-10-26             0  \n",
       "...                  ...  \n",
       "2020-10-30             0  \n",
       "2020-11-06             0  \n",
       "2020-11-13             0  \n",
       "2020-11-20             0  \n",
       "2020-11-24             0  \n",
       "\n",
       "[2724 rows x 7 columns]"
      ]
     },
     "execution_count": 131,
     "metadata": {},
     "output_type": "execute_result"
    }
   ],
   "source": [
    "yf.Ticker(msci_world).history(period=\"max\")"
   ]
  },
  {
   "cell_type": "code",
   "execution_count": 132,
   "metadata": {},
   "outputs": [],
   "source": [
    "def p_from_lowest(low, now): return round(((now-low)/low)*100,2)"
   ]
  },
  {
   "cell_type": "code",
   "execution_count": 133,
   "metadata": {},
   "outputs": [],
   "source": [
    "def parse(ticker):\n",
    "    info = yf.Ticker(ticker).info\n",
    "    return info['regularMarketPrice'], info['fiftyTwoWeekLow'], info['fiftyTwoWeekHigh']"
   ]
  },
  {
   "cell_type": "markdown",
   "metadata": {},
   "source": [
    "## MSCI World"
   ]
  },
  {
   "cell_type": "code",
   "execution_count": 134,
   "metadata": {},
   "outputs": [
    {
     "data": {
      "text/plain": [
       "(59.062, 40.611, 60.572)"
      ]
     },
     "execution_count": 134,
     "metadata": {},
     "output_type": "execute_result"
    }
   ],
   "source": [
    "now, low, high = parse(msci_world)\n",
    "now, low, high"
   ]
  },
  {
   "cell_type": "code",
   "execution_count": 135,
   "metadata": {},
   "outputs": [
    {
     "data": {
      "text/plain": [
       "45.43"
      ]
     },
     "execution_count": 135,
     "metadata": {},
     "output_type": "execute_result"
    }
   ],
   "source": [
    "p_from_lowest(low, now)"
   ]
  },
  {
   "cell_type": "markdown",
   "metadata": {},
   "source": [
    "## MSCI EU"
   ]
  },
  {
   "cell_type": "code",
   "execution_count": 136,
   "metadata": {},
   "outputs": [
    {
     "data": {
      "text/plain": [
       "(53.59, 37.4, 58.59)"
      ]
     },
     "execution_count": 136,
     "metadata": {},
     "output_type": "execute_result"
    }
   ],
   "source": [
    "now, low, high = parse(msci_eu)\n",
    "now, low, high"
   ]
  },
  {
   "cell_type": "code",
   "execution_count": 137,
   "metadata": {},
   "outputs": [
    {
     "data": {
      "text/plain": [
       "43.29"
      ]
     },
     "execution_count": 137,
     "metadata": {},
     "output_type": "execute_result"
    }
   ],
   "source": [
    "p_from_lowest(low, now)"
   ]
  },
  {
   "cell_type": "markdown",
   "metadata": {},
   "source": [
    "## DAX"
   ]
  },
  {
   "cell_type": "code",
   "execution_count": 138,
   "metadata": {},
   "outputs": [
    {
     "data": {
      "text/plain": [
       "(112.9, 70.6, 118.06)"
      ]
     },
     "execution_count": 138,
     "metadata": {},
     "output_type": "execute_result"
    }
   ],
   "source": [
    "now, low, high = parse(dax)\n",
    "now, low, high"
   ]
  },
  {
   "cell_type": "code",
   "execution_count": 139,
   "metadata": {},
   "outputs": [
    {
     "data": {
      "text/plain": [
       "59.92"
      ]
     },
     "execution_count": 139,
     "metadata": {},
     "output_type": "execute_result"
    }
   ],
   "source": [
    "p_from_lowest(low, now)"
   ]
  },
  {
   "cell_type": "markdown",
   "metadata": {},
   "source": [
    "## Gold"
   ]
  },
  {
   "cell_type": "code",
   "execution_count": 143,
   "metadata": {},
   "outputs": [
    {
     "data": {
      "image/png": "[encoded data removed]",
      "text/plain": [
       "<IPython.core.display.Image object>"
      ]
     },
     "execution_count": 143,
     "metadata": {
      "image/png": {
       "height": 100,
       "width": 1000
      }
     },
     "output_type": "execute_result"
    }
   ],
   "source": [
    "PATH = \"/home/sharif/Pictures/gold.png\"\n",
    "Image(filename = PATH, width=1000, height=100)"
   ]
  },
  {
   "cell_type": "code",
   "execution_count": 140,
   "metadata": {},
   "outputs": [
    {
     "data": {
      "text/plain": [
       "(148.85, 126.94, 168.46)"
      ]
     },
     "execution_count": 140,
     "metadata": {},
     "output_type": "execute_result"
    }
   ],
   "source": [
    "now, low, high = parse(gold)\n",
    "now, low, high"
   ]
  },
  {
   "cell_type": "code",
   "execution_count": 116,
   "metadata": {},
   "outputs": [
    {
     "data": {
      "text/plain": [
       "17.26"
      ]
     },
     "execution_count": 116,
     "metadata": {},
     "output_type": "execute_result"
    }
   ],
   "source": [
    "p_from_lowest(low, now)"
   ]
  },
  {
   "cell_type": "markdown",
   "metadata": {},
   "source": [
    "## Silver"
   ]
  },
  {
   "cell_type": "code",
   "execution_count": 117,
   "metadata": {},
   "outputs": [
    {
     "data": {
      "text/plain": [
       "(18.48, 10.024, 23.395)"
      ]
     },
     "execution_count": 117,
     "metadata": {},
     "output_type": "execute_result"
    }
   ],
   "source": [
    "now, low, high = parse(silver)\n",
    "now, low, high"
   ]
  },
  {
   "cell_type": "code",
   "execution_count": 118,
   "metadata": {},
   "outputs": [
    {
     "data": {
      "text/plain": [
       "84.36"
      ]
     },
     "execution_count": 118,
     "metadata": {},
     "output_type": "execute_result"
    }
   ],
   "source": [
    "p_from_lowest(low, now)"
   ]
  }
 ],
 "metadata": {
  "kernelspec": {
   "display_name": "Python 3",
   "language": "python",
   "name": "python3"
  },
  "language_info": {
   "codemirror_mode": {
    "name": "ipython",
    "version": 3
   },
   "file_extension": ".py",
   "mimetype": "text/x-python",
   "name": "python",
   "nbconvert_exporter": "python",
   "pygments_lexer": "ipython3",
   "version": "3.8.3"
  }
 },
 "nbformat": 4,
 "nbformat_minor": 4
}
