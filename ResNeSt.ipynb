{
 "cells": [
  {
   "cell_type": "markdown",
   "metadata": {},
   "source": [
    "## Instance Segmentation with ResNeSt\n",
    "\n",
    "https://github.com/zhanghang1989/ResNeSt"
   ]
  },
  {
   "cell_type": "code",
   "execution_count": 2,
   "metadata": {
    "collapsed": true
   },
   "outputs": [
    {
     "name": "stdout",
     "output_type": "stream",
     "text": [
      "Error initializing plugin EntryPoint(name='Windows (alt)', value='keyrings.alt.Windows', group='keyring.backends').\n",
      "Traceback (most recent call last):\n",
      "  File \"/home/sharif/.local/lib/python3.6/site-packages/keyring/backend.py\", line 203, in _load_plugins\n",
      "    init_func = ep.load()\n",
      "  File \"/home/sharif/.local/lib/python3.6/site-packages/importlib_metadata/__init__.py\", line 95, in load\n",
      "    module = import_module(match.group('module'))\n",
      "  File \"/usr/lib/python3.6/importlib/__init__.py\", line 126, in import_module\n",
      "    return _bootstrap._gcd_import(name[level:], package, level)\n",
      "  File \"<frozen importlib._bootstrap>\", line 994, in _gcd_import\n",
      "  File \"<frozen importlib._bootstrap>\", line 971, in _find_and_load\n",
      "  File \"<frozen importlib._bootstrap>\", line 955, in _find_and_load_unlocked\n",
      "  File \"<frozen importlib._bootstrap>\", line 665, in _load_unlocked\n",
      "  File \"<frozen importlib._bootstrap_external>\", line 678, in exec_module\n",
      "  File \"<frozen importlib._bootstrap>\", line 219, in _call_with_frames_removed\n",
      "  File \"/usr/lib/python3/dist-packages/keyrings/alt/Windows.py\", line 9, in <module>\n",
      "    from . import file_base\n",
      "  File \"/usr/lib/python3/dist-packages/keyrings/alt/file_base.py\", line 13, in <module>\n",
      "    from keyring.util.escape import escape as escape_for_ini\n",
      "ModuleNotFoundError: No module named 'keyring.util.escape'\n",
      "Error initializing plugin EntryPoint(name='file', value='keyrings.alt.file', group='keyring.backends').\n",
      "Traceback (most recent call last):\n",
      "  File \"/home/sharif/.local/lib/python3.6/site-packages/keyring/backend.py\", line 203, in _load_plugins\n",
      "    init_func = ep.load()\n",
      "  File \"/home/sharif/.local/lib/python3.6/site-packages/importlib_metadata/__init__.py\", line 95, in load\n",
      "    module = import_module(match.group('module'))\n",
      "  File \"/usr/lib/python3.6/importlib/__init__.py\", line 126, in import_module\n",
      "    return _bootstrap._gcd_import(name[level:], package, level)\n",
      "  File \"<frozen importlib._bootstrap>\", line 994, in _gcd_import\n",
      "  File \"<frozen importlib._bootstrap>\", line 971, in _find_and_load\n",
      "  File \"<frozen importlib._bootstrap>\", line 955, in _find_and_load_unlocked\n",
      "  File \"<frozen importlib._bootstrap>\", line 665, in _load_unlocked\n",
      "  File \"<frozen importlib._bootstrap_external>\", line 678, in exec_module\n",
      "  File \"<frozen importlib._bootstrap>\", line 219, in _call_with_frames_removed\n",
      "  File \"/usr/lib/python3/dist-packages/keyrings/alt/file.py\", line 11, in <module>\n",
      "    from keyring.util.escape import escape as escape_for_ini\n",
      "ModuleNotFoundError: No module named 'keyring.util.escape'\n",
      "Error initializing plugin EntryPoint(name='pyfs', value='keyrings.alt.pyfs', group='keyring.backends').\n",
      "Traceback (most recent call last):\n",
      "  File \"/home/sharif/.local/lib/python3.6/site-packages/keyring/backend.py\", line 203, in _load_plugins\n",
      "    init_func = ep.load()\n",
      "  File \"/home/sharif/.local/lib/python3.6/site-packages/importlib_metadata/__init__.py\", line 95, in load\n",
      "    module = import_module(match.group('module'))\n",
      "  File \"/usr/lib/python3.6/importlib/__init__.py\", line 126, in import_module\n",
      "    return _bootstrap._gcd_import(name[level:], package, level)\n",
      "  File \"<frozen importlib._bootstrap>\", line 994, in _gcd_import\n",
      "  File \"<frozen importlib._bootstrap>\", line 971, in _find_and_load\n",
      "  File \"<frozen importlib._bootstrap>\", line 955, in _find_and_load_unlocked\n",
      "  File \"<frozen importlib._bootstrap>\", line 665, in _load_unlocked\n",
      "  File \"<frozen importlib._bootstrap_external>\", line 678, in exec_module\n",
      "  File \"<frozen importlib._bootstrap>\", line 219, in _call_with_frames_removed\n",
      "  File \"/usr/lib/python3/dist-packages/keyrings/alt/pyfs.py\", line 8, in <module>\n",
      "    from keyring.util.escape import escape as escape_for_ini\n",
      "ModuleNotFoundError: No module named 'keyring.util.escape'\n",
      "Defaulting to user installation because normal site-packages is not writeable\n",
      "Collecting resnest\n",
      "  Downloading resnest-0.0.4b20200618-py3-none-any.whl (31 kB)\n",
      "Requirement already satisfied: numpy in /home/sharif/.local/lib/python3.6/site-packages (from resnest) (1.18.5)\n",
      "Requirement already satisfied: Pillow in /home/sharif/.local/lib/python3.6/site-packages (from resnest) (5.3.0)\n",
      "Requirement already satisfied: torch>=1.0.0 in /home/sharif/.local/lib/python3.6/site-packages (from resnest) (1.5.0)\n",
      "Collecting nose\n",
      "  Downloading nose-1.3.7-py3-none-any.whl (154 kB)\n",
      "\u001b[K     |████████████████████████████████| 154 kB 198 kB/s eta 0:00:01\n",
      "\u001b[?25hRequirement already satisfied: scipy in /home/sharif/.local/lib/python3.6/site-packages (from resnest) (1.1.0)\n",
      "Requirement already satisfied: requests in /home/sharif/.local/lib/python3.6/site-packages (from resnest) (2.21.0)\n",
      "Requirement already satisfied: tqdm in /home/sharif/.local/lib/python3.6/site-packages (from resnest) (4.46.1)\n",
      "Requirement already satisfied: future in /home/sharif/.local/lib/python3.6/site-packages (from torch>=1.0.0->resnest) (0.18.2)\n",
      "Requirement already satisfied: certifi>=2017.4.17 in /home/sharif/.local/lib/python3.6/site-packages (from requests->resnest) (2020.4.5.1)\n",
      "Requirement already satisfied: chardet<3.1.0,>=3.0.2 in /usr/lib/python3/dist-packages (from requests->resnest) (3.0.4)\n",
      "Requirement already satisfied: idna<2.9,>=2.5 in /usr/lib/python3/dist-packages (from requests->resnest) (2.6)\n",
      "Requirement already satisfied: urllib3<1.25,>=1.21.1 in /usr/lib/python3/dist-packages (from requests->resnest) (1.22)\n",
      "Installing collected packages: nose, resnest\n",
      "Successfully installed nose-1.3.7 resnest-0.0.4b20200618\n"
     ]
    }
   ],
   "source": [
    "!pip3 install resnest --pre"
   ]
  },
  {
   "cell_type": "code",
   "execution_count": 1,
   "metadata": {},
   "outputs": [],
   "source": [
    "import torch\n",
    "from PIL import Image\n",
    "import numpy as np"
   ]
  },
  {
   "cell_type": "code",
   "execution_count": 2,
   "metadata": {},
   "outputs": [
    {
     "name": "stderr",
     "output_type": "stream",
     "text": [
      "Downloading: \"https://github.com/zhanghang1989/ResNeSt/archive/master.zip\" to /home/sharif/.cache/torch/hub/master.zip\n"
     ]
    }
   ],
   "source": [
    "torch.hub.list('zhanghang1989/ResNeSt', force_reload=True);"
   ]
  },
  {
   "cell_type": "code",
   "execution_count": 3,
   "metadata": {},
   "outputs": [
    {
     "name": "stderr",
     "output_type": "stream",
     "text": [
      "Using cache found in /home/sharif/.cache/torch/hub/zhanghang1989_ResNeSt_master\n"
     ]
    }
   ],
   "source": [
    "net = torch.hub.load('zhanghang1989/ResNeSt', 'resnest50', pretrained=True)\n",
    "net.eval()\n",
    "net.cuda();"
   ]
  },
  {
   "cell_type": "code",
   "execution_count": 4,
   "metadata": {},
   "outputs": [],
   "source": [
    "IMG_F = '/home/sharif/Documents/sp2-ai-terminal-benchmarking/data/gold-standard/images/Biberach_2019-11-21_09-40-05.png'"
   ]
  },
  {
   "cell_type": "code",
   "execution_count": 5,
   "metadata": {},
   "outputs": [
    {
     "data": {
      "text/plain": [
       "torch.float32"
      ]
     },
     "execution_count": 5,
     "metadata": {},
     "output_type": "execute_result"
    }
   ],
   "source": [
    "img = np.array(Image.open(IMG_F), dtype=np.float32)[...,:3]\n",
    "img = img.reshape(1,3,1080,1920)\n",
    "img = torch.from_numpy(img)\n",
    "img.shape\n",
    "img.dtype"
   ]
  },
  {
   "cell_type": "markdown",
   "metadata": {},
   "source": [
    "# Inference GTX 1070: 190ms"
   ]
  },
  {
   "cell_type": "code",
   "execution_count": 6,
   "metadata": {
    "collapsed": true
   },
   "outputs": [
    {
     "data": {
      "text/plain": [
       "tensor([[ 2.3764e+01, -3.9511e+00, -2.0620e+01,  2.4670e+00,  1.6960e+01,\n",
       "         -8.4461e-01,  1.3008e+01,  1.0428e+00, -6.5078e+00, -9.7849e+00,\n",
       "          1.9841e+01, -3.0941e+00, -2.1192e+01, -9.9396e+00,  7.9322e-01,\n",
       "          2.5743e+01,  6.1238e+00, -1.3685e+01, -2.5379e+01,  6.0382e-01,\n",
       "          8.3150e+00,  7.0754e+00, -1.5045e+01,  4.8080e+00, -2.4041e+00,\n",
       "          6.6883e+00, -3.2929e+00,  5.4191e+00,  3.3587e+01,  9.2110e+00,\n",
       "          3.3531e+01,  1.3822e+01,  1.6564e-01, -8.4401e+00,  1.3983e+01,\n",
       "          1.8672e+01,  3.5452e+01,  5.1580e+00, -7.4703e+00,  1.4065e+01,\n",
       "         -1.9515e+01, -2.9157e+01,  2.4522e+01,  1.3070e+00,  2.3966e+01,\n",
       "         -9.8894e+00,  6.5825e+00,  9.7075e+00,  1.8450e+01,  1.3559e+01,\n",
       "          7.2757e+00, -1.0357e+01, -2.0743e+01,  1.5715e+00,  2.6918e+01,\n",
       "         -1.2869e+01, -9.4006e+00, -4.3228e+00,  4.6802e+00,  1.2826e+01,\n",
       "          8.7236e+00, -1.4838e+01,  6.6518e+00,  7.7311e+00,  1.8415e+01,\n",
       "         -1.2586e+01, -2.2098e+01,  2.6521e+01, -2.9089e+01, -3.6593e+00,\n",
       "         -1.3501e+01,  7.4832e+00, -1.3084e+01, -1.3774e+01, -1.5822e+01,\n",
       "         -1.6796e+01, -1.4347e+00, -3.3711e-01,  5.2745e+00,  1.5292e+01,\n",
       "          1.8483e+01,  2.7588e+01, -1.2851e+00,  1.1503e+01, -1.4909e+01,\n",
       "         -2.4812e+00,  1.1209e+01, -6.2080e+00, -1.1105e+01, -1.5485e+00,\n",
       "          4.3982e+00,  2.7431e+01,  6.9641e+00,  5.9955e+00,  4.2898e+00,\n",
       "         -4.4429e+00, -9.5521e+00, -2.9197e+00, -7.2337e-01, -9.3465e+00,\n",
       "         -4.5428e+00, -1.7785e+01,  2.6952e+01,  1.3510e+01, -4.6789e-01,\n",
       "         -2.3540e+01,  1.5265e+01,  6.5887e+00, -6.0349e+00, -5.7138e-01,\n",
       "          5.9335e-01,  9.6263e+00, -9.2869e+00,  9.0625e+00, -9.9599e-01,\n",
       "          1.9303e+01, -2.0045e+01, -1.2387e+00, -1.7265e+01,  1.5147e+00,\n",
       "         -2.4571e-01, -2.0129e+00,  7.5891e+00,  1.4414e+01,  1.5244e+01,\n",
       "          2.7100e+01,  1.6303e+01,  1.0541e+01,  1.6561e+01,  6.7295e+00,\n",
       "         -9.9713e+00, -1.3027e+00, -1.0422e+01,  1.1022e+00, -1.4457e+01,\n",
       "          1.0862e-01,  2.2074e+00, -1.8711e+01, -4.9901e+00, -1.6308e+01,\n",
       "         -6.2920e+00, -4.1411e-01,  3.2555e+00, -9.2085e+00,  1.0547e+00,\n",
       "         -1.7927e+01, -1.8923e+00,  4.2139e+01, -2.0454e+01,  1.4704e+01,\n",
       "          1.3439e+01,  1.6323e+01, -2.5975e+00,  6.6116e+00, -1.0425e+01,\n",
       "          1.8043e+01,  9.1833e-01, -7.1500e+00,  9.0322e+00, -1.3098e+00,\n",
       "         -1.7286e+01, -1.0074e+01, -1.4177e+01, -1.4025e+01,  8.6447e+00,\n",
       "          3.1341e+01,  1.4856e+01,  1.7855e+01,  2.7922e+01, -2.9982e+01,\n",
       "          4.7034e+00,  2.2478e+00, -2.0991e+01,  8.4334e+00, -6.3877e+00,\n",
       "         -8.9098e+00, -1.9557e+01, -1.7523e+01,  4.2074e+00, -1.1416e+00,\n",
       "         -4.2223e+01, -7.9809e+00, -9.5094e+00, -8.3153e+00, -2.2107e+00,\n",
       "         -3.4295e+01, -5.1253e+00, -3.0241e+00,  4.6045e+00,  2.0754e+00,\n",
       "         -9.5141e+00,  4.3322e+00,  4.7684e+00,  1.3091e+01, -1.0448e+00,\n",
       "         -2.2626e+00, -6.0010e+00, -1.3342e+01, -1.4159e+01, -1.0725e+01,\n",
       "          1.4430e+01, -1.5028e+01,  2.6466e+00, -1.6664e+00, -7.9868e+00,\n",
       "         -3.8120e+01, -1.0223e+01, -3.1999e+01, -1.6126e+01,  1.0242e+01,\n",
       "         -6.1925e-01, -8.1585e+00, -1.7001e+01, -4.9138e+00, -1.4586e+01,\n",
       "         -2.7168e+00,  1.5093e+01,  7.1708e+00, -2.2611e+01, -1.8153e+01,\n",
       "         -1.0539e+01,  3.1025e+00, -4.5773e+00,  5.1116e+00, -5.3372e+00,\n",
       "         -2.6082e+01, -1.2329e+01,  5.4859e+00, -1.2289e+01, -1.9798e+01,\n",
       "         -2.4831e+01, -1.5662e+00,  1.2875e-01, -2.8435e+01, -1.7289e+01,\n",
       "         -1.3247e+01,  4.8479e+00, -2.7474e-01, -9.9173e+00, -9.4430e+00,\n",
       "         -4.0379e+01, -1.1357e+01, -6.0531e+00, -2.9594e+00, -2.5557e+00,\n",
       "         -1.7596e+01, -8.6236e+00, -2.4817e+01, -2.1067e+01,  1.1731e+01,\n",
       "          3.2823e+01, -1.5807e+00, -6.6788e+00, -2.4804e+01,  3.5706e+00,\n",
       "          4.8125e+00,  1.9936e+01,  1.1670e+01, -2.4039e+00,  1.2122e+01,\n",
       "         -1.7259e+01,  4.6471e-01, -8.5230e+00, -5.6118e+00,  6.0118e+00,\n",
       "         -2.3625e+01, -1.4679e+00, -1.0027e+01,  5.0986e+00,  2.0617e+01,\n",
       "         -6.3936e+00,  1.4138e+01, -1.5110e+01,  2.1955e+00,  1.5562e+01,\n",
       "          3.2786e+01,  1.8357e+01,  1.5783e+01,  2.7098e+01,  4.8602e+00,\n",
       "          2.3348e+01, -7.6818e+00,  2.7722e+01,  1.0322e+01,  2.8058e+00,\n",
       "         -1.6507e+01,  1.7798e+01, -1.6291e-02,  3.8000e+01, -7.8079e+00,\n",
       "         -2.6144e+00,  2.3884e+01, -1.1604e+01, -1.1047e+01,  2.9117e+00,\n",
       "         -2.7184e+00, -1.4239e+01,  1.5129e+01, -5.4198e+00,  9.9411e+00,\n",
       "          1.0382e+00,  9.4486e+00, -1.2261e+01,  1.0798e+01, -3.0445e+01,\n",
       "         -3.3620e+00,  3.3898e-01, -2.1708e+01, -8.3946e+00,  2.4665e+00,\n",
       "         -4.9380e+00, -1.5767e+01, -5.1493e+00, -7.2275e+00, -6.6248e+00,\n",
       "         -6.6408e+00,  1.5677e+00, -2.6815e+01,  5.9233e+00, -5.3022e+00,\n",
       "         -5.1158e+00, -2.1726e+01, -2.1976e+01, -6.5991e-01,  3.0876e-01,\n",
       "         -5.8340e+00,  1.9837e+00, -2.3775e+01, -1.7294e+01,  5.3793e+00,\n",
       "          3.1310e+00,  5.5858e+00, -3.6966e+01, -1.2674e+01,  1.7197e-01,\n",
       "          1.2619e+01,  2.1951e+01,  9.5794e+00, -1.7537e+00,  7.6442e+00,\n",
       "         -1.2514e+01, -9.5873e-01, -2.3287e+00,  7.9538e+00, -1.2093e+01,\n",
       "          8.9539e+00,  2.0844e+00, -3.4623e+01, -2.0200e+01, -1.0044e+01,\n",
       "          2.4443e+00,  1.1587e+01,  6.9963e+00, -2.1366e+00, -4.6527e+00,\n",
       "         -9.6871e+00, -4.1150e-01,  7.4163e+00, -3.3678e+00, -3.4816e+00,\n",
       "          1.5446e+01,  3.0144e-01,  2.2223e+01,  1.1265e+00,  7.2993e+00,\n",
       "         -1.8156e+01, -1.0375e+01, -7.9142e+00,  8.7292e+00, -2.0928e+01,\n",
       "         -2.4868e+00,  1.5444e+01,  2.9398e+01, -2.2339e+01,  1.5830e+01,\n",
       "         -1.4771e+00, -2.3379e+00, -2.4028e+01, -1.9032e+01, -3.4781e+01,\n",
       "         -2.1453e+01, -6.5257e+00, -1.8834e+01, -4.5087e+00, -8.1039e+00,\n",
       "          1.6439e+01, -1.1742e+01,  6.9563e+00,  3.2883e+01, -1.4655e+01,\n",
       "          1.8822e+01,  1.7905e+00, -2.9844e+00, -5.0926e+00, -1.4121e+01,\n",
       "         -2.0344e+01,  1.2134e+01,  8.1702e+00,  3.5634e+01,  5.2381e+00,\n",
       "         -2.9953e+01,  2.8346e+00,  1.3390e+01, -1.6386e+00, -3.1504e+01,\n",
       "          7.5152e+00, -1.3285e+01, -2.3525e+01, -8.5793e+00,  2.5699e+01,\n",
       "         -8.9223e+00, -2.1063e+01, -1.0439e+01,  1.8798e+01, -3.6931e+00,\n",
       "         -1.8997e+01,  3.3426e-02, -1.4747e+01, -2.8931e+00,  1.4576e+01,\n",
       "         -1.0205e+01,  6.9331e+01, -2.1693e+01, -2.3927e+01, -1.8278e+01,\n",
       "          4.1137e+01, -2.6377e+01,  3.6945e+01,  1.1544e+01, -2.2640e+00,\n",
       "          3.5966e-01, -7.3321e+00, -1.2633e+01, -3.7510e+01,  4.7114e+00,\n",
       "          5.3897e+01,  1.6086e+01,  8.8766e+00,  7.3531e+00, -4.7525e+01,\n",
       "         -8.2872e+00,  3.4833e+01, -5.7180e+00,  5.8175e+00, -7.9346e+00,\n",
       "         -3.3137e+01,  3.2932e+01,  1.1075e-01, -3.6223e+00, -9.4899e+00,\n",
       "         -2.2510e+01,  9.9164e+00, -3.2594e+01,  3.1314e+01, -3.0975e+01,\n",
       "          8.9381e+00,  4.7624e+01,  1.1473e+00,  3.4003e+01,  2.0942e+01,\n",
       "          4.1630e+01, -5.9912e+00,  1.7542e+01,  9.4653e-01,  2.8092e+01,\n",
       "         -1.7575e+01, -5.6732e+01, -1.6244e+01, -1.2862e+01,  2.3590e+01,\n",
       "         -2.0881e+01, -3.5971e+01, -1.1418e+01,  9.1571e+00,  6.6728e+00,\n",
       "         -1.7432e+01,  7.7825e+00, -2.2517e+01, -1.3754e+01, -2.1454e+01,\n",
       "         -1.7287e+01,  2.0187e+01,  1.0939e+01, -1.3744e+01, -2.3594e+01,\n",
       "         -1.5161e+01,  1.4416e+01, -2.0763e+01,  2.6950e+01, -5.0841e+00,\n",
       "         -1.9829e+01,  2.1290e+01,  3.9070e+01,  3.2743e+01,  5.3945e+00,\n",
       "         -4.6634e+00,  2.9028e+01, -1.2708e+01, -9.6289e+00,  6.0653e+01,\n",
       "         -3.0038e+01,  3.3255e+01,  7.2169e+00,  1.5113e+01,  3.5029e+01,\n",
       "         -1.7979e+01, -2.2121e+00, -1.6426e+00, -5.5737e+00, -2.7651e+00,\n",
       "         -1.1320e+01, -1.8246e+01,  4.2952e+00, -5.5862e+00, -1.3660e+00,\n",
       "         -3.4459e+01, -2.5704e+01,  1.0268e+01, -3.2377e+01,  1.2359e+01,\n",
       "          1.1950e+01,  7.2955e+00, -1.1268e+00,  8.6203e+00,  1.6369e+01,\n",
       "          8.5438e+00,  2.4716e+01, -1.1020e+01, -1.2023e+01, -3.8030e-01,\n",
       "          1.8866e+01,  1.5890e+01,  5.3876e+00, -7.5931e+00,  5.5802e+01,\n",
       "          2.0334e+00, -2.1632e+01, -1.8981e+01,  8.3009e+01, -2.3483e+01,\n",
       "         -2.6586e+01, -2.4588e+00,  6.2101e+00, -1.3039e+01, -1.6754e+01,\n",
       "         -2.1135e-01, -2.3296e+01,  1.8443e+01, -3.3316e-02,  2.9266e+00,\n",
       "         -1.6223e+00,  1.4513e+01,  7.7974e+00,  3.6897e+01, -1.3945e+01,\n",
       "          6.3504e+01,  1.1736e-02,  2.7655e+01, -2.5084e+01,  8.0076e+00,\n",
       "         -6.3906e+00, -2.0720e+01,  3.2206e+01, -3.7277e+01, -4.0894e+01,\n",
       "          8.3248e+00, -1.1795e+01, -1.4738e+01, -2.1010e+01, -2.3044e+01,\n",
       "         -1.9041e+01,  2.2648e+01,  1.1070e+01,  7.8900e+00,  9.0563e+00,\n",
       "         -1.2412e+01, -1.8420e+01, -1.1707e+01,  1.7945e+01, -2.5766e-02,\n",
       "         -3.2980e+01, -2.0242e+01, -4.2985e+01,  3.5679e-01, -3.1394e+01,\n",
       "          7.0407e+00, -1.1024e+01, -2.1151e+00, -3.6476e-01, -9.3935e+00,\n",
       "         -5.1834e-01, -7.3470e+00,  2.5769e+01, -1.7913e+01, -1.8253e+01,\n",
       "         -3.2696e+01,  3.6347e+01,  1.3029e+01,  3.3721e+01, -1.3338e+00,\n",
       "         -3.1137e+00, -8.9102e+00, -9.4842e+00, -1.3521e+01, -4.0027e+00,\n",
       "          2.2288e+01, -1.5902e+01, -8.3536e+00,  4.3224e+01, -2.9866e+00,\n",
       "          1.5995e+01,  8.1017e+00,  2.3485e+01,  8.9605e+00,  7.5251e+00,\n",
       "         -2.0232e+00,  2.7107e+01,  5.6723e+01,  1.5775e+01,  4.4339e+00,\n",
       "         -1.5863e+01,  1.3734e+01, -1.9946e+00,  1.1566e+01, -3.1989e+01,\n",
       "         -2.1934e+01,  4.3694e+01, -4.6110e+01,  1.0581e+01,  4.2586e+01,\n",
       "          1.8816e+00, -8.0029e+00, -3.1042e+01,  2.3624e+01, -2.2741e+01,\n",
       "          6.3465e+01, -1.4407e+01, -1.9716e+01,  1.6165e+01, -2.3748e+01,\n",
       "          3.4395e+00,  1.0966e+01, -1.1662e+01, -1.8458e+01, -7.3301e+00,\n",
       "          1.2114e+01, -7.0127e+00,  2.3571e+01, -1.4324e+01, -6.5012e-01,\n",
       "          7.7432e+00,  3.6855e+01,  9.8832e+00, -1.7596e+00, -1.5344e+01,\n",
       "         -3.8050e+01,  2.5950e+01, -2.1784e+00,  5.4545e+00, -1.6587e+01,\n",
       "          5.1460e+00,  4.5138e+00,  4.8153e+00,  1.1878e+01, -1.6684e+00,\n",
       "         -1.1579e+01, -1.2374e+00, -2.5384e+01, -2.1591e+01, -1.6615e+01,\n",
       "         -8.5096e+00,  1.5784e+01,  1.8954e+00,  2.9661e+01,  4.8127e+01,\n",
       "         -4.2621e+01,  9.0396e+00,  2.7948e+01,  4.6020e+00,  1.6377e+01,\n",
       "          1.7177e+00,  1.1367e+01, -1.3675e+00, -1.0326e+01,  1.8069e+01,\n",
       "         -9.4490e+00, -2.9677e+01, -2.5501e+01, -1.1639e+01, -8.4394e+00,\n",
       "         -1.0663e+01,  3.2112e+00, -5.6175e+00, -3.9381e+01, -1.1776e+01,\n",
       "          8.3172e+00,  1.6297e+01, -3.3296e+00, -2.6305e+01, -2.5834e+00,\n",
       "         -1.9625e+01, -1.1026e+01, -2.0353e+00,  2.0256e+01,  4.5786e+00,\n",
       "         -1.2816e+01,  2.5718e+01, -3.1091e+01, -2.0441e+01,  4.6911e+01,\n",
       "          9.3347e+01,  5.4372e+00, -7.5255e+00, -1.1981e+01,  2.7252e+00,\n",
       "         -4.7216e+00,  1.7860e+01, -1.2479e+00,  2.1666e+00,  4.4042e+00,\n",
       "         -9.7045e+00, -1.7157e+01,  2.3454e+01,  2.4958e+01, -5.4106e+00,\n",
       "          1.5141e+01, -7.2720e+00,  8.3205e-01,  2.7986e+01,  1.5229e+01,\n",
       "          4.1759e+01, -1.9558e+00, -4.1549e+01,  1.1297e+01, -5.2339e+01,\n",
       "         -2.2029e+01, -1.5493e+01,  8.8666e+00,  3.6434e+01, -4.8099e+00,\n",
       "          1.1390e+01, -7.7578e+00,  1.1072e+01, -1.2365e+01, -5.2447e-01,\n",
       "         -1.4948e+01,  1.7017e+00,  9.9947e+00,  9.5619e+00,  1.9284e+01,\n",
       "          2.5100e+01,  6.2424e-01, -1.0296e+01,  1.0143e+01,  3.9120e+01,\n",
       "          9.7591e+00, -6.9423e+00, -7.8258e+00,  1.1062e+01,  5.9087e+00,\n",
       "          2.3432e+01,  3.4700e+01, -1.0399e+01, -1.0735e+01, -8.7926e+00,\n",
       "          3.2479e+00,  2.8687e+00, -3.8049e+00, -2.0655e+01,  1.4848e+01,\n",
       "          2.0457e+01, -7.0993e+00, -2.0446e+01, -4.7858e+00, -1.0635e+01,\n",
       "          5.5932e+00, -1.1964e+01,  2.1955e+01, -4.7422e+01, -3.2008e+01,\n",
       "         -4.8773e-01, -1.0177e+01, -4.7059e+01,  1.8814e+01,  1.9764e+01,\n",
       "         -3.1086e+01, -4.2831e-01, -2.0757e+00, -4.5583e+01, -2.2659e+01,\n",
       "         -2.3870e+01, -4.9767e+00,  2.5167e+01, -2.6003e+01, -2.2574e+00,\n",
       "          4.5477e-01, -9.4699e+00,  8.2810e+00,  5.0349e+01,  5.2108e+01,\n",
       "         -5.2511e+00, -1.3538e+01, -1.4198e+01, -3.4615e+00,  1.0439e+01,\n",
       "         -1.0409e+01,  1.9343e+01, -2.0347e+01, -5.2723e+01, -1.1183e+01,\n",
       "         -2.6445e+01,  9.2355e+00,  7.7655e+00,  1.4513e+01,  1.4751e+00,\n",
       "          3.1165e-02, -6.3590e+00, -1.2057e+01,  7.8680e+01,  1.3615e+01,\n",
       "         -4.7736e+00, -1.3991e+01, -4.0313e+01,  1.4048e+01, -3.3978e-01,\n",
       "          1.5824e+01, -4.8114e+00,  2.5431e+01, -1.2299e+01,  9.1955e+00,\n",
       "          2.8335e+01,  1.6127e+01,  3.5011e+00,  4.2783e+00,  2.5833e+00,\n",
       "          1.3601e+01, -2.4261e+01, -3.0001e+00, -1.0885e+01, -1.5232e+01,\n",
       "          4.1610e+01,  2.7377e+01, -1.6594e+01, -9.0727e+00, -4.1747e+00,\n",
       "          1.0699e+01,  3.8005e+01, -1.5999e+01,  3.7134e+01,  8.5247e+00,\n",
       "          2.0154e+00, -7.9637e+00, -1.4144e+00, -2.2839e+00,  2.1224e+01,\n",
       "          2.2713e+00, -1.9797e+01, -1.1146e+01, -1.0523e+01,  2.0769e+01,\n",
       "         -2.7050e+01, -1.9691e+01,  3.4953e+01, -1.5679e+01, -8.0470e+00,\n",
       "         -1.0076e+01, -6.9385e+00, -9.5943e+00,  4.1154e+01,  1.4009e+01,\n",
       "         -1.6650e+00, -5.6017e-01, -7.7244e+00,  3.4252e+00, -1.6155e+01,\n",
       "          8.4599e+00,  6.9991e+01,  5.4050e+00,  3.7967e+00,  8.2238e+00,\n",
       "          1.4465e+01, -4.0310e+00,  1.9093e+01,  8.1213e+01,  3.2503e+00,\n",
       "          7.0252e+00,  5.7329e+00, -2.4840e+01,  8.7744e+00, -1.9094e+01,\n",
       "         -1.7619e+01, -1.8284e+01,  3.6366e+01,  1.0001e+01,  1.1688e+01,\n",
       "         -1.4720e+01,  6.2063e+01, -1.0715e+01,  1.9204e+01, -6.3401e+00,\n",
       "         -7.9059e+00, -7.3199e+00, -3.3829e-01,  1.7119e+00, -1.0441e+01,\n",
       "          1.0196e+01,  7.8608e-01,  1.6277e+00, -1.6404e+01, -1.6893e+01,\n",
       "          1.9655e-01, -2.5615e+01, -3.3708e+01,  1.6931e+01, -1.2605e+01,\n",
       "         -9.3383e+00,  3.8740e+01,  4.2945e+00, -1.5998e+01, -1.8346e+01,\n",
       "          1.0867e+01,  6.9603e+01, -2.0722e+01, -2.8129e+01, -4.3720e+00,\n",
       "         -1.9699e+01,  9.6735e+00,  3.6268e+00, -1.7139e+01,  1.3837e+01,\n",
       "          2.7746e+00,  3.0874e+00,  1.0398e+01, -6.2989e-01,  4.8854e+00,\n",
       "         -7.1617e+00, -8.0783e-01, -3.2817e-01, -2.0662e+01,  1.1015e+00,\n",
       "         -1.9035e+01, -1.1377e+01, -2.2275e+00, -5.6996e+00, -1.6779e+01,\n",
       "          1.2374e+01, -2.8240e+00,  2.2172e+01,  6.8012e+00,  1.8170e+01,\n",
       "          1.4060e+01,  1.8929e+01, -3.4411e+00, -3.8034e+00, -1.5218e+01,\n",
       "         -8.5861e+00, -2.6995e+01,  7.4383e+00, -1.2157e+01,  1.6022e+00,\n",
       "         -1.5885e+01, -2.0469e+01, -9.8328e+00, -7.0896e+00, -2.2125e+01,\n",
       "          2.2419e+00,  2.7445e+01, -1.2698e+01,  4.0426e+01,  2.5940e+01,\n",
       "          1.7162e+01, -1.4251e+01, -7.3663e+00,  3.7845e+00, -6.3050e-01,\n",
       "          4.4264e+01,  2.5876e+01, -1.6863e+01, -1.3159e+01, -2.2767e+01,\n",
       "          1.4478e+01, -2.9479e+01,  4.1616e+00,  1.9018e+01, -1.4105e+01,\n",
       "          8.8057e+00,  1.2030e+01,  2.5268e+00,  1.6688e+01,  1.2598e+00,\n",
       "          7.4177e+00, -8.0246e+00,  2.0281e+01,  1.3443e+01,  3.9407e+01,\n",
       "         -1.2314e+01,  7.6444e+00,  2.2715e+01, -1.9666e+01,  6.5772e-01]],\n",
       "       device='cuda:0', grad_fn=<AddmmBackward>)"
      ]
     },
     "execution_count": 6,
     "metadata": {},
     "output_type": "execute_result"
    }
   ],
   "source": [
    "net(img.cuda())"
   ]
  },
  {
   "cell_type": "code",
   "execution_count": 13,
   "metadata": {},
   "outputs": [],
   "source": [
    "del net\n",
    "del img\n",
    "torch.cuda.empty_cache()"
   ]
  },
  {
   "cell_type": "code",
   "execution_count": null,
   "metadata": {},
   "outputs": [],
   "source": []
  }
 ],
 "metadata": {
  "kernelspec": {
   "display_name": "Python 3",
   "language": "python",
   "name": "python3"
  },
  "language_info": {
   "codemirror_mode": {
    "name": "ipython",
    "version": 3
   },
   "file_extension": ".py",
   "mimetype": "text/x-python",
   "name": "python",
   "nbconvert_exporter": "python",
   "pygments_lexer": "ipython3",
   "version": "3.6.9"
  }
 },
 "nbformat": 4,
 "nbformat_minor": 4
}
